{
 "cells": [
  {
   "cell_type": "code",
   "execution_count": 1,
   "id": "4f328acb",
   "metadata": {},
   "outputs": [],
   "source": [
    "import os\n",
    "import ee\n",
    "import geemap\n",
    "os.environ['HTTP_PROXY'] = 'http://127.0.0.1:7890'\n",
    "os.environ['HTTPS_PROXY'] = 'http://127.0.0.1:7890'\n",
    "Map = geemap.Map()\n",
    "geemap.ee_initialize()"
   ]
  },
  {
   "cell_type": "code",
   "execution_count": 3,
   "id": "db7e122f",
   "metadata": {
    "ExecuteTime": {
     "end_time": "2023-08-02T08:59:21.998454Z",
     "start_time": "2023-08-02T08:58:30.386532Z"
    }
   },
   "outputs": [
    {
     "data": {
      "text/html": [
       "\n",
       "            <style>\n",
       "                .geemap-dark {\n",
       "                    --jp-widgets-color: white;\n",
       "                    --jp-widgets-label-color: white;\n",
       "                    --jp-ui-font-color1: white;\n",
       "                    --jp-layout-color2: #454545;\n",
       "                    background-color: #383838;\n",
       "                }\n",
       "\n",
       "                .geemap-dark .jupyter-button {\n",
       "                    --jp-layout-color3: #383838;\n",
       "                }\n",
       "\n",
       "                .geemap-colab {\n",
       "                    background-color: var(--colab-primary-surface-color, white);\n",
       "                }\n",
       "\n",
       "                .geemap-colab .jupyter-button {\n",
       "                    --jp-layout-color3: var(--colab-primary-surface-color, white);\n",
       "                }\n",
       "            </style>\n",
       "            "
      ],
      "text/plain": [
       "<IPython.core.display.HTML object>"
      ]
     },
     "metadata": {},
     "output_type": "display_data"
    }
   ],
   "source": [
    "import pandas as pd"
   ]
  },
  {
   "cell_type": "code",
   "execution_count": 21,
   "id": "105d280b",
   "metadata": {
    "ExecuteTime": {
     "end_time": "2023-08-02T08:59:24.011209Z",
     "start_time": "2023-08-02T08:59:24.002770Z"
    }
   },
   "outputs": [
    {
     "data": {
      "text/html": [
       "\n",
       "            <style>\n",
       "                .geemap-dark {\n",
       "                    --jp-widgets-color: white;\n",
       "                    --jp-widgets-label-color: white;\n",
       "                    --jp-ui-font-color1: white;\n",
       "                    --jp-layout-color2: #454545;\n",
       "                    background-color: #383838;\n",
       "                }\n",
       "\n",
       "                .geemap-dark .jupyter-button {\n",
       "                    --jp-layout-color3: #383838;\n",
       "                }\n",
       "\n",
       "                .geemap-colab {\n",
       "                    background-color: var(--colab-primary-surface-color, white);\n",
       "                }\n",
       "\n",
       "                .geemap-colab .jupyter-button {\n",
       "                    --jp-layout-color3: var(--colab-primary-surface-color, white);\n",
       "                }\n",
       "            </style>\n",
       "            "
      ],
      "text/plain": [
       "<IPython.core.display.HTML object>"
      ]
     },
     "metadata": {},
     "output_type": "display_data"
    }
   ],
   "source": [
    "def getS2ImageCol(roi, s2, dataRage):\n",
    "    \"\"\"生成年度无云Sentinel 2 ImageCollection。\n",
    "    Args:\n",
    "        roi (object, optional): 感兴趣区域\n",
    "        dataRage (ee.DateRange, optional): 时间范围\n",
    "        bandSelect (int, optional): 筛选波段\n",
    "    Returns:\n",
    "        object: 返回包含年度 Sentinel 2 图像的 ImageCollection。\n",
    "    \"\"\"\n",
    "    def rmCloudByQA(image):\n",
    "        qa = image.select('QA60')\n",
    "        cloudBitMask = 1 << 10\n",
    "        cirrusBitMask = 1 << 11\n",
    "        mask = qa.bitwiseAnd(cloudBitMask).eq(0).And(qa.bitwiseAnd(cirrusBitMask).eq(0))\n",
    "        return image.updateMask(mask)\n",
    "\n",
    "    def reScale(image):\n",
    "        return image.divide(10000)\n",
    "\n",
    "    s2Col = (ee\n",
    "             .ImageCollection(s2)\n",
    "             .filterBounds(roi)\n",
    "             .filterDate(dataRage)\n",
    "             .map(rmCloudByQA)\n",
    "             .select([\"B2\", \"B3\", \"B4\", \"B5\", \"B6\", \"B7\", \"B8\", \"B8A\", \"B11\", \"B12\"])\n",
    "             .map(reScale)\n",
    "             )\n",
    "\n",
    "    return s2Col"
   ]
  },
  {
   "cell_type": "code",
   "execution_count": 22,
   "id": "p0mbvxtab2",
   "metadata": {},
   "outputs": [
    {
     "data": {
      "text/html": [
       "\n",
       "            <style>\n",
       "                .geemap-dark {\n",
       "                    --jp-widgets-color: white;\n",
       "                    --jp-widgets-label-color: white;\n",
       "                    --jp-ui-font-color1: white;\n",
       "                    --jp-layout-color2: #454545;\n",
       "                    background-color: #383838;\n",
       "                }\n",
       "\n",
       "                .geemap-dark .jupyter-button {\n",
       "                    --jp-layout-color3: #383838;\n",
       "                }\n",
       "\n",
       "                .geemap-colab {\n",
       "                    background-color: var(--colab-primary-surface-color, white);\n",
       "                }\n",
       "\n",
       "                .geemap-colab .jupyter-button {\n",
       "                    --jp-layout-color3: var(--colab-primary-surface-color, white);\n",
       "                }\n",
       "            </style>\n",
       "            "
      ],
      "text/plain": [
       "<IPython.core.display.HTML object>"
      ]
     },
     "metadata": {},
     "output_type": "display_data"
    }
   ],
   "source": [
    "def getAlphaEarthImage(roi, year):\n",
    "    \"\"\"获取AlphaEarth数据中重要的Alpha波段\n",
    "    根据SHAP分析，重要的波段为：Alpha32, Alpha64, Alpha37, Alpha48, Alpha47\n",
    "    在GEE中对应为：A31, A63, A36, A47, A46 (因为从A00开始)\n",
    "    \n",
    "    Args:\n",
    "        roi (object): 感兴趣区域\n",
    "        year (int): 年份\n",
    "    Returns:\n",
    "        object: 返回包含重要Alpha波段的图像\n",
    "    \"\"\"\n",
    "    # 重要的Alpha波段：Alpha32->A31, Alpha64->A63, Alpha37->A36, Alpha48->A47, Alpha47->A46\n",
    "    important_bands = [\"A31\", \"A63\", \"A36\", \"A47\", \"A46\"]\n",
    "    \n",
    "    # 获取指定年份的AlphaEarth数据\n",
    "    start_date = str(year) + '-01-01'\n",
    "    end_date = str(year + 1) + '-01-01'\n",
    "    \n",
    "    alphaearth_img = (ee.ImageCollection(alphaearth_collection)\n",
    "                      .filterDate(start_date, end_date)\n",
    "                      .filterBounds(roi)\n",
    "                      .mean()\n",
    "                      .select(important_bands)\n",
    "                      .clip(roi))\n",
    "    \n",
    "    return alphaearth_img"
   ]
  },
  {
   "cell_type": "code",
   "execution_count": null,
   "id": "ef7cc0a0",
   "metadata": {},
   "outputs": [],
   "source": []
  },
  {
   "cell_type": "code",
   "execution_count": 23,
   "id": "ddd43f39",
   "metadata": {
    "ExecuteTime": {
     "end_time": "2023-08-02T08:59:26.082250Z",
     "start_time": "2023-08-02T08:59:26.078249Z"
    }
   },
   "outputs": [
    {
     "data": {
      "text/html": [
       "\n",
       "            <style>\n",
       "                .geemap-dark {\n",
       "                    --jp-widgets-color: white;\n",
       "                    --jp-widgets-label-color: white;\n",
       "                    --jp-ui-font-color1: white;\n",
       "                    --jp-layout-color2: #454545;\n",
       "                    background-color: #383838;\n",
       "                }\n",
       "\n",
       "                .geemap-dark .jupyter-button {\n",
       "                    --jp-layout-color3: #383838;\n",
       "                }\n",
       "\n",
       "                .geemap-colab {\n",
       "                    background-color: var(--colab-primary-surface-color, white);\n",
       "                }\n",
       "\n",
       "                .geemap-colab .jupyter-button {\n",
       "                    --jp-layout-color3: var(--colab-primary-surface-color, white);\n",
       "                }\n",
       "            </style>\n",
       "            "
      ],
      "text/plain": [
       "<IPython.core.display.HTML object>"
      ]
     },
     "metadata": {},
     "output_type": "display_data"
    }
   ],
   "source": [
    "year = 2022\n",
    "start = str(year)+'-09-01'\n",
    "end =  str(year)+'-12-31'\n",
    "dataRage = ee.DateRange(start, end)\n",
    "\n",
    "s2 = \"COPERNICUS/S2_SR_HARMONIZED\"\n",
    "\n",
    "# AlphaEarth数据集 - Google Satellite Embedding\n",
    "alphaearth_collection = \"GOOGLE/SATELLITE_EMBEDDING/V1/ANNUAL\""
   ]
  },
  {
   "cell_type": "code",
   "execution_count": 24,
   "id": "c2d8a3a2",
   "metadata": {
    "ExecuteTime": {
     "end_time": "2023-08-02T08:59:27.820821Z",
     "start_time": "2023-08-02T08:59:27.803538Z"
    }
   },
   "outputs": [
    {
     "data": {
      "text/html": [
       "\n",
       "            <style>\n",
       "                .geemap-dark {\n",
       "                    --jp-widgets-color: white;\n",
       "                    --jp-widgets-label-color: white;\n",
       "                    --jp-ui-font-color1: white;\n",
       "                    --jp-layout-color2: #454545;\n",
       "                    background-color: #383838;\n",
       "                }\n",
       "\n",
       "                .geemap-dark .jupyter-button {\n",
       "                    --jp-layout-color3: #383838;\n",
       "                }\n",
       "\n",
       "                .geemap-colab {\n",
       "                    background-color: var(--colab-primary-surface-color, white);\n",
       "                }\n",
       "\n",
       "                .geemap-colab .jupyter-button {\n",
       "                    --jp-layout-color3: var(--colab-primary-surface-color, white);\n",
       "                }\n",
       "            </style>\n",
       "            "
      ],
      "text/plain": [
       "<IPython.core.display.HTML object>"
      ]
     },
     "metadata": {},
     "output_type": "display_data"
    }
   ],
   "source": [
    "# 定义ROI为标注点集合的最小外接矩形\n",
    "points = ee.FeatureCollection(\"projects/ee-wang/assets/pnt\")\n",
    "roi = points.geometry().bounds()\n",
    "\n",
    "# 获取Sentinel-2数据\n",
    "s2ImageCol = getS2ImageCol(roi, s2, dataRage)\n",
    "s2ImageCol = s2ImageCol.median().clip(roi)\n",
    "\n",
    "# 获取AlphaEarth数据\n",
    "alphaearth_img = getAlphaEarthImage(roi, year)\n",
    "\n",
    "# 合并两个数据集\n",
    "combined_img = s2ImageCol.addBands(alphaearth_img)\n",
    "\n"
   ]
  },
  {
   "cell_type": "code",
   "execution_count": 26,
   "id": "e4d2d2b5",
   "metadata": {
    "ExecuteTime": {
     "end_time": "2023-08-02T08:59:32.765728Z",
     "start_time": "2023-08-02T08:59:32.750721Z"
    }
   },
   "outputs": [
    {
     "data": {
      "text/html": [
       "\n",
       "            <style>\n",
       "                .geemap-dark {\n",
       "                    --jp-widgets-color: white;\n",
       "                    --jp-widgets-label-color: white;\n",
       "                    --jp-ui-font-color1: white;\n",
       "                    --jp-layout-color2: #454545;\n",
       "                    background-color: #383838;\n",
       "                }\n",
       "\n",
       "                .geemap-dark .jupyter-button {\n",
       "                    --jp-layout-color3: #383838;\n",
       "                }\n",
       "\n",
       "                .geemap-colab {\n",
       "                    background-color: var(--colab-primary-surface-color, white);\n",
       "                }\n",
       "\n",
       "                .geemap-colab .jupyter-button {\n",
       "                    --jp-layout-color3: var(--colab-primary-surface-color, white);\n",
       "                }\n",
       "            </style>\n",
       "            "
      ],
      "text/plain": [
       "<IPython.core.display.HTML object>"
      ]
     },
     "metadata": {},
     "output_type": "display_data"
    }
   ],
   "source": [
    "# 创建5x5窗口的卷积核\n",
    "radius = 2\n",
    "kernel = ee.Kernel.square(radius, 'pixels', False)\n",
    "\n",
    "# 对合并后的图像(Sentinel-2 + AlphaEarth)进行5x5窗口采样\n",
    "img_array = ee.Image(combined_img).neighborhoodToArray(kernel)"
   ]
  },
  {
   "cell_type": "code",
   "execution_count": 8,
   "id": "8d0414c2",
   "metadata": {
    "ExecuteTime": {
     "end_time": "2023-08-02T08:59:33.876932Z",
     "start_time": "2023-08-02T08:59:33.860931Z"
    }
   },
   "outputs": [
    {
     "data": {
      "text/html": [
       "\n",
       "            <style>\n",
       "                .geemap-dark {\n",
       "                    --jp-widgets-color: white;\n",
       "                    --jp-widgets-label-color: white;\n",
       "                    --jp-ui-font-color1: white;\n",
       "                    --jp-layout-color2: #454545;\n",
       "                    background-color: #383838;\n",
       "                }\n",
       "\n",
       "                .geemap-dark .jupyter-button {\n",
       "                    --jp-layout-color3: #383838;\n",
       "                }\n",
       "\n",
       "                .geemap-colab {\n",
       "                    background-color: var(--colab-primary-surface-color, white);\n",
       "                }\n",
       "\n",
       "                .geemap-colab .jupyter-button {\n",
       "                    --jp-layout-color3: var(--colab-primary-surface-color, white);\n",
       "                }\n",
       "            </style>\n",
       "            "
      ],
      "text/plain": [
       "<IPython.core.display.HTML object>"
      ]
     },
     "metadata": {},
     "output_type": "display_data"
    },
    {
     "name": "stdout",
     "output_type": "stream",
     "text": [
      "样本大小是12700\n",
      "{'type': 'Feature', 'geometry': {'type': 'Point', 'coordinates': [-15.443030773458025, 64.57640269623263]}, 'id': '0000000000000000002a', 'properties': {'ASPECT': 0, 'B1': 0.838199973, 'B11': 0.040899999, 'B12': 0.0425, 'B2': 0.862600029, 'B3': 0.880999982, 'B4': 0.862999976, 'B5': 0.877699971, 'B6': 0.837100029, 'B7': 0.791599989, 'B8': 0.772800028, 'B8A': 0.734600008, 'B9': 0.745999992, 'CIRE': -0.103564158, 'CIRE_MAX': -0.061351467, 'CIRE_MEAN': -0.112698182, 'CIRE_MIN': -0.174052447, 'DEM': 1297.592041, 'ENTROPY': 4.78386116, 'EVI': -0.354765333, 'EVI_MAX': 5.33256267, 'EVI_MEAN': -0.216274676, 'EVI_MIN': -1.065846403, 'Field1': 42, 'MSK_SNWPRB': 99.99999776, 'MSK_SNWP_1': 0.01, 'MSK_SNWP_2': 0.0002, 'MSK_SNWP_3': 0.00825238, 'NDBI': -0.919416785, 'NDBI_MAX': -0.392683357, 'NDBI_MEAN': -0.855272293, 'NDBI_MIN': -0.978207886, 'NDMI': 91.53472185, 'NDMI_MAX': 0.977087736, 'NDMI_MEAN': 0.853083849, 'NDMI_MIN': 0.458547562, 'NDSI': 92.09432602, 'NDSI_MAX': 0.982986331, 'NDSI_MEAN': 0.869108021, 'NDSI_MIN': 0.461317122, 'NDVI': -6.324331462, 'NDVI_MAX': -0.014366625, 'NDVI_MEAN': -0.061669834, 'NDVI_MIN': -0.109174281, 'NDWI': 5.952581763, 'NDWI_MAX': 0.124325715, 'NDWI_MEAN': 0.059762795, 'NDWI_MIN': 0.009370966, 'SAVI': -0.066392431, 'SAVI_MAX': -0.01076099, 'SAVI_MEAN': -0.067846975, 'SAVI_MIN': -0.141566718, 'SLOPE': 0, 'VH_DB_ASC': -34.93671898, 'VH_U_ASC': 0.07056715, 'VV_DB_ASC': -15.89599004, 'VV_U_ASC': 0.374106195, 'WFI': -1.216128945, 'WFI_MAX': -0.21778883, 'WFI_MEAN': -5.139652252, 'WFI_MIN': -20.87654877, 'cropland': 0, 'landcover': 0, 'lat': 64.57640121, 'lon': -15.44303054}}\n"
     ]
    }
   ],
   "source": [
    "\n",
    "points = ee.FeatureCollection(\"projects/ee-wang/assets/pnt\") \\\n",
    "            .randomColumn('random', 1).filter(ee.Filter.gt('random', 0).And(ee.Filter.lt('random', 0.05)))\\\n",
    "            .map(lambda fea: fea.set('random', None)) \\\n",
    "            .randomColumn('random', 1)\\\n",
    "            .select(['landcover','random'])\n",
    "\n",
    "print(f\"样本大小是{points.size().getInfo()}\")\n",
    "print(points.first().getInfo())\n"
   ]
  },
  {
   "cell_type": "code",
   "execution_count": 34,
   "id": "98afcb4e",
   "metadata": {
    "ExecuteTime": {
     "end_time": "2023-08-02T08:59:34.420624Z",
     "start_time": "2023-08-02T08:59:34.409464Z"
    }
   },
   "outputs": [],
   "source": [
    "#points = train.merge(test)"
   ]
  },
  {
   "cell_type": "code",
   "execution_count": 28,
   "id": "4bcf1e48",
   "metadata": {
    "ExecuteTime": {
     "end_time": "2023-08-02T08:59:34.885326Z",
     "start_time": "2023-08-02T08:59:34.872286Z"
    }
   },
   "outputs": [
    {
     "data": {
      "text/html": [
       "\n",
       "            <style>\n",
       "                .geemap-dark {\n",
       "                    --jp-widgets-color: white;\n",
       "                    --jp-widgets-label-color: white;\n",
       "                    --jp-ui-font-color1: white;\n",
       "                    --jp-layout-color2: #454545;\n",
       "                    background-color: #383838;\n",
       "                }\n",
       "\n",
       "                .geemap-dark .jupyter-button {\n",
       "                    --jp-layout-color3: #383838;\n",
       "                }\n",
       "\n",
       "                .geemap-colab {\n",
       "                    background-color: var(--colab-primary-surface-color, white);\n",
       "                }\n",
       "\n",
       "                .geemap-colab .jupyter-button {\n",
       "                    --jp-layout-color3: var(--colab-primary-surface-color, white);\n",
       "                }\n",
       "            </style>\n",
       "            "
      ],
      "text/plain": [
       "<IPython.core.display.HTML object>"
      ]
     },
     "metadata": {},
     "output_type": "display_data"
    }
   ],
   "source": [
    "result = img_array.sampleRegions(**{\n",
    "  'collection': points,\n",
    "  'scale': 90, \n",
    "})"
   ]
  },
  {
   "cell_type": "code",
   "execution_count": 29,
   "id": "7e9fdbad",
   "metadata": {
    "ExecuteTime": {
     "end_time": "2023-08-02T09:01:38.975898Z",
     "start_time": "2023-08-02T08:59:43.876824Z"
    }
   },
   "outputs": [
    {
     "data": {
      "text/html": [
       "\n",
       "            <style>\n",
       "                .geemap-dark {\n",
       "                    --jp-widgets-color: white;\n",
       "                    --jp-widgets-label-color: white;\n",
       "                    --jp-ui-font-color1: white;\n",
       "                    --jp-layout-color2: #454545;\n",
       "                    background-color: #383838;\n",
       "                }\n",
       "\n",
       "                .geemap-dark .jupyter-button {\n",
       "                    --jp-layout-color3: #383838;\n",
       "                }\n",
       "\n",
       "                .geemap-colab {\n",
       "                    background-color: var(--colab-primary-surface-color, white);\n",
       "                }\n",
       "\n",
       "                .geemap-colab .jupyter-button {\n",
       "                    --jp-layout-color3: var(--colab-primary-surface-color, white);\n",
       "                }\n",
       "            </style>\n",
       "            "
      ],
      "text/plain": [
       "<IPython.core.display.HTML object>"
      ]
     },
     "metadata": {},
     "output_type": "display_data"
    }
   ],
   "source": [
    "geemap.ee_to_csv(result, filename='water_CNN_with_AlphaEarth.csv')"
   ]
  },
  {
   "cell_type": "code",
   "execution_count": null,
   "id": "dc4df6f1-98d5-4862-9204-5668c102e562",
   "metadata": {},
   "outputs": [],
   "source": []
  },
  {
   "cell_type": "code",
   "execution_count": null,
   "id": "9e5b95f8",
   "metadata": {},
   "outputs": [],
   "source": []
  }
 ],
 "metadata": {
  "hide_input": false,
  "kernelspec": {
   "display_name": "gee",
   "language": "python",
   "name": "python3"
  },
  "language_info": {
   "codemirror_mode": {
    "name": "ipython",
    "version": 3
   },
   "file_extension": ".py",
   "mimetype": "text/x-python",
   "name": "python",
   "nbconvert_exporter": "python",
   "pygments_lexer": "ipython3",
   "version": "3.9.16"
  },
  "toc": {
   "base_numbering": 1,
   "nav_menu": {},
   "number_sections": true,
   "sideBar": true,
   "skip_h1_title": false,
   "title_cell": "Table of Contents",
   "title_sidebar": "Contents",
   "toc_cell": false,
   "toc_position": {},
   "toc_section_display": true,
   "toc_window_display": false
  },
  "varInspector": {
   "cols": {
    "lenName": 16,
    "lenType": 16,
    "lenVar": 40
   },
   "kernels_config": {
    "python": {
     "delete_cmd_postfix": "",
     "delete_cmd_prefix": "del ",
     "library": "var_list.py",
     "varRefreshCmd": "print(var_dic_list())"
    },
    "r": {
     "delete_cmd_postfix": ") ",
     "delete_cmd_prefix": "rm(",
     "library": "var_list.r",
     "varRefreshCmd": "cat(var_dic_list()) "
    }
   },
   "types_to_exclude": [
    "module",
    "function",
    "builtin_function_or_method",
    "instance",
    "_Feature"
   ],
   "window_display": false
  }
 },
 "nbformat": 4,
 "nbformat_minor": 5
}
