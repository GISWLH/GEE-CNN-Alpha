{
 "cells": [
  {
   "cell_type": "code",
   "execution_count": 1,
   "id": "setup_cell",
   "metadata": {},
   "outputs": [
    {
     "name": "stdout",
     "output_type": "stream",
     "text": [
      "✅ 初始化完成，可以开始运行下面的代码块\n"
     ]
    }
   ],
   "source": [
    "# 初始化设置 - 只需运行一次\n",
    "import os\n",
    "import ee\n",
    "import geemap\n",
    "\n",
    "# 设置代理\n",
    "os.environ['HTTP_PROXY'] = 'http://127.0.0.1:7890'\n",
    "os.environ['HTTPS_PROXY'] = 'http://127.0.0.1:7890'\n",
    "\n",
    "# 初始化GEE\n",
    "geemap.ee_initialize()\n",
    "\n",
    "# 定义函数\n",
    "def getS2ImageCol(roi, s2, dataRage):\n",
    "    def rmCloudByQA(image):\n",
    "        qa = image.select('QA60')\n",
    "        cloudBitMask = 1 << 10\n",
    "        cirrusBitMask = 1 << 11\n",
    "        mask = qa.bitwiseAnd(cloudBitMask).eq(0).And(qa.bitwiseAnd(cirrusBitMask).eq(0))\n",
    "        return image.updateMask(mask)\n",
    "    def reScale(image):\n",
    "        return image.divide(10000)\n",
    "    s2Col = (ee.ImageCollection(s2).filterBounds(roi).filterDate(dataRage)\n",
    "             .map(rmCloudByQA).select([\"B2\", \"B3\", \"B4\", \"B5\", \"B6\", \"B7\", \"B8\", \"B8A\", \"B11\", \"B12\"])\n",
    "             .map(reScale))\n",
    "    return s2Col\n",
    "\n",
    "def getAlphaEarthImage(roi, year):\n",
    "    important_bands = [\"A31\", \"A63\", \"A36\", \"A47\", \"A46\"]\n",
    "    start_date = str(year) + '-01-01'\n",
    "    end_date = str(year + 1) + '-01-01'\n",
    "    alphaearth_img = (ee.ImageCollection(alphaearth_collection)\n",
    "                      .filterDate(start_date, end_date).filterBounds(roi)\n",
    "                      .mean().select(important_bands).clip(roi))\n",
    "    return alphaearth_img\n",
    "\n",
    "# 设置基本参数\n",
    "year = 2022\n",
    "start = str(year)+'-09-01'\n",
    "end = str(year)+'-12-31'\n",
    "dataRage = ee.DateRange(start, end)\n",
    "s2 = \"COPERNICUS/S2_SR_HARMONIZED\"\n",
    "alphaearth_collection = \"GOOGLE/SATELLITE_EMBEDDING/V1/ANNUAL\"\n",
    "\n",
    "# 定义ROI和数据\n",
    "points_collection = ee.FeatureCollection(\"projects/ee-wang/assets/pnt\")\n",
    "roi = points_collection.geometry().bounds()\n",
    "s2ImageCol = getS2ImageCol(roi, s2, dataRage).median().clip(roi)\n",
    "alphaearth_img = getAlphaEarthImage(roi, year)\n",
    "combined_img = s2ImageCol.addBands(alphaearth_img)\n",
    "radius = 2\n",
    "kernel = ee.Kernel.square(radius, 'pixels', False)\n",
    "img_array = ee.Image(combined_img).neighborhoodToArray(kernel)\n",
    "\n",
    "# 为所有点添加索引号用于分组\n",
    "def addIndex(feature):\n",
    "    return feature.set('index', ee.Number(feature.get('system:index')).format('%05d'))\n",
    "\n",
    "all_points = points_collection.randomColumn('random_seed', 42).sort('random_seed')\n",
    "all_points_list = all_points.toList(13000)  # 转换为列表以便索引访问\n",
    "print('✅ 初始化完成，可以开始运行下面的代码块')"
   ]
  },
  {
   "cell_type": "code",
   "execution_count": 4,
   "id": "export_1",
   "metadata": {},
   "outputs": [
    {
     "data": {
      "text/html": [
       "\n",
       "            <style>\n",
       "                .geemap-dark {\n",
       "                    --jp-widgets-color: white;\n",
       "                    --jp-widgets-label-color: white;\n",
       "                    --jp-ui-font-color1: white;\n",
       "                    --jp-layout-color2: #454545;\n",
       "                    background-color: #383838;\n",
       "                }\n",
       "\n",
       "                .geemap-dark .jupyter-button {\n",
       "                    --jp-layout-color3: #383838;\n",
       "                }\n",
       "\n",
       "                .geemap-colab {\n",
       "                    background-color: var(--colab-primary-surface-color, white);\n",
       "                }\n",
       "\n",
       "                .geemap-colab .jupyter-button {\n",
       "                    --jp-layout-color3: var(--colab-primary-surface-color, white);\n",
       "                }\n",
       "            </style>\n",
       "            "
      ],
      "text/plain": [
       "<IPython.core.display.HTML object>"
      ]
     },
     "metadata": {},
     "output_type": "display_data"
    },
    {
     "name": "stdout",
     "output_type": "stream",
     "text": [
      "正在导出第1个文件...\n",
      "✅ 成功导出: data/water_CNN_with_AlphaEarth1_1.csv\n"
     ]
    }
   ],
   "source": [
    "# 导出第1个文件 (样本 0-999)\n",
    "print('正在导出第1个文件...')\n",
    "points_1 = ee.FeatureCollection(all_points_list.slice(500, 1000)).select(['landcover']).randomColumn('random', 1)\n",
    "result_1 = img_array.sampleRegions(collection=points_1, scale=90)\n",
    "geemap.ee_to_csv(result_1, filename='data/water_CNN_with_AlphaEarth1.csv')\n",
    "print('✅ 成功导出: data/water_CNN_with_AlphaEarth1_1.csv')"
   ]
  },
  {
   "cell_type": "code",
   "execution_count": 7,
   "id": "export_2",
   "metadata": {},
   "outputs": [
    {
     "data": {
      "text/html": [
       "\n",
       "            <style>\n",
       "                .geemap-dark {\n",
       "                    --jp-widgets-color: white;\n",
       "                    --jp-widgets-label-color: white;\n",
       "                    --jp-ui-font-color1: white;\n",
       "                    --jp-layout-color2: #454545;\n",
       "                    background-color: #383838;\n",
       "                }\n",
       "\n",
       "                .geemap-dark .jupyter-button {\n",
       "                    --jp-layout-color3: #383838;\n",
       "                }\n",
       "\n",
       "                .geemap-colab {\n",
       "                    background-color: var(--colab-primary-surface-color, white);\n",
       "                }\n",
       "\n",
       "                .geemap-colab .jupyter-button {\n",
       "                    --jp-layout-color3: var(--colab-primary-surface-color, white);\n",
       "                }\n",
       "            </style>\n",
       "            "
      ],
      "text/plain": [
       "<IPython.core.display.HTML object>"
      ]
     },
     "metadata": {},
     "output_type": "display_data"
    },
    {
     "name": "stdout",
     "output_type": "stream",
     "text": [
      "正在导出第2个文件...\n",
      "✅ 成功导出: data/water_CNN_with_AlphaEarth2.csv\n"
     ]
    }
   ],
   "source": [
    "# 导出第2个文件 (样本 1000-1999)\n",
    "print('正在导出第2个文件...')\n",
    "points_2 = ee.FeatureCollection(all_points_list.slice(1000, 2000)).select(['landcover']).randomColumn('random', 1)\n",
    "result_2 = img_array.sampleRegions(collection=points_2, scale=90)\n",
    "geemap.ee_to_csv(result_2, filename='data/water_CNN_with_AlphaEarth2.csv')\n",
    "print('✅ 成功导出: data/water_CNN_with_AlphaEarth2.csv')"
   ]
  },
  {
   "cell_type": "code",
   "execution_count": 4,
   "id": "export_3",
   "metadata": {},
   "outputs": [
    {
     "data": {
      "text/html": [
       "\n",
       "            <style>\n",
       "                .geemap-dark {\n",
       "                    --jp-widgets-color: white;\n",
       "                    --jp-widgets-label-color: white;\n",
       "                    --jp-ui-font-color1: white;\n",
       "                    --jp-layout-color2: #454545;\n",
       "                    background-color: #383838;\n",
       "                }\n",
       "\n",
       "                .geemap-dark .jupyter-button {\n",
       "                    --jp-layout-color3: #383838;\n",
       "                }\n",
       "\n",
       "                .geemap-colab {\n",
       "                    background-color: var(--colab-primary-surface-color, white);\n",
       "                }\n",
       "\n",
       "                .geemap-colab .jupyter-button {\n",
       "                    --jp-layout-color3: var(--colab-primary-surface-color, white);\n",
       "                }\n",
       "            </style>\n",
       "            "
      ],
      "text/plain": [
       "<IPython.core.display.HTML object>"
      ]
     },
     "metadata": {},
     "output_type": "display_data"
    },
    {
     "name": "stdout",
     "output_type": "stream",
     "text": [
      "正在导出第3个文件...\n",
      "✅ 成功导出: data/water_CNN_with_AlphaEarth3_1.csv\n"
     ]
    }
   ],
   "source": [
    "# 导出第3个文件 (样本 2000-2999)\n",
    "print('正在导出第3个文件...')\n",
    "points_3 = ee.FeatureCollection(all_points_list.slice(2500, 3000)).select(['landcover']).randomColumn('random', 1)\n",
    "result_3 = img_array.sampleRegions(collection=points_3, scale=90)\n",
    "geemap.ee_to_csv(result_3, filename='data/water_CNN_with_AlphaEarth3.csv')\n",
    "print('✅ 成功导出: data/water_CNN_with_AlphaEarth3_1.csv')"
   ]
  },
  {
   "cell_type": "code",
   "execution_count": 9,
   "id": "export_4",
   "metadata": {},
   "outputs": [
    {
     "data": {
      "text/html": [
       "\n",
       "            <style>\n",
       "                .geemap-dark {\n",
       "                    --jp-widgets-color: white;\n",
       "                    --jp-widgets-label-color: white;\n",
       "                    --jp-ui-font-color1: white;\n",
       "                    --jp-layout-color2: #454545;\n",
       "                    background-color: #383838;\n",
       "                }\n",
       "\n",
       "                .geemap-dark .jupyter-button {\n",
       "                    --jp-layout-color3: #383838;\n",
       "                }\n",
       "\n",
       "                .geemap-colab {\n",
       "                    background-color: var(--colab-primary-surface-color, white);\n",
       "                }\n",
       "\n",
       "                .geemap-colab .jupyter-button {\n",
       "                    --jp-layout-color3: var(--colab-primary-surface-color, white);\n",
       "                }\n",
       "            </style>\n",
       "            "
      ],
      "text/plain": [
       "<IPython.core.display.HTML object>"
      ]
     },
     "metadata": {},
     "output_type": "display_data"
    },
    {
     "name": "stdout",
     "output_type": "stream",
     "text": [
      "正在导出第4个文件...\n",
      "✅ 成功导出: data/water_CNN_with_AlphaEarth4.csv\n"
     ]
    }
   ],
   "source": [
    "# 导出第4个文件 (样本 3000-3999)\n",
    "print('正在导出第4个文件...')\n",
    "points_4 = ee.FeatureCollection(all_points_list.slice(3000, 4000)).select(['landcover']).randomColumn('random', 1)\n",
    "result_4 = img_array.sampleRegions(collection=points_4, scale=90)\n",
    "geemap.ee_to_csv(result_4, filename='data/water_CNN_with_AlphaEarth4.csv')\n",
    "print('✅ 成功导出: data/water_CNN_with_AlphaEarth4.csv')"
   ]
  },
  {
   "cell_type": "code",
   "execution_count": 6,
   "id": "export_5",
   "metadata": {},
   "outputs": [
    {
     "data": {
      "text/html": [
       "\n",
       "            <style>\n",
       "                .geemap-dark {\n",
       "                    --jp-widgets-color: white;\n",
       "                    --jp-widgets-label-color: white;\n",
       "                    --jp-ui-font-color1: white;\n",
       "                    --jp-layout-color2: #454545;\n",
       "                    background-color: #383838;\n",
       "                }\n",
       "\n",
       "                .geemap-dark .jupyter-button {\n",
       "                    --jp-layout-color3: #383838;\n",
       "                }\n",
       "\n",
       "                .geemap-colab {\n",
       "                    background-color: var(--colab-primary-surface-color, white);\n",
       "                }\n",
       "\n",
       "                .geemap-colab .jupyter-button {\n",
       "                    --jp-layout-color3: var(--colab-primary-surface-color, white);\n",
       "                }\n",
       "            </style>\n",
       "            "
      ],
      "text/plain": [
       "<IPython.core.display.HTML object>"
      ]
     },
     "metadata": {},
     "output_type": "display_data"
    },
    {
     "name": "stdout",
     "output_type": "stream",
     "text": [
      "正在导出第5个文件...\n",
      "✅ 成功导出: data/water_CNN_with_AlphaEarth5_1.csv\n"
     ]
    }
   ],
   "source": [
    "# 导出第5个文件 (样本 4000-4999)\n",
    "print('正在导出第5个文件...')\n",
    "points_5 = ee.FeatureCollection(all_points_list.slice(4500, 5000)).select(['landcover']).randomColumn('random', 1)\n",
    "result_5 = img_array.sampleRegions(collection=points_5, scale=90)\n",
    "geemap.ee_to_csv(result_5, filename='data/water_CNN_with_AlphaEarth5.csv')\n",
    "print('✅ 成功导出: data/water_CNN_with_AlphaEarth5_1.csv')"
   ]
  },
  {
   "cell_type": "code",
   "execution_count": 9,
   "id": "export_6",
   "metadata": {},
   "outputs": [
    {
     "data": {
      "text/html": [
       "\n",
       "            <style>\n",
       "                .geemap-dark {\n",
       "                    --jp-widgets-color: white;\n",
       "                    --jp-widgets-label-color: white;\n",
       "                    --jp-ui-font-color1: white;\n",
       "                    --jp-layout-color2: #454545;\n",
       "                    background-color: #383838;\n",
       "                }\n",
       "\n",
       "                .geemap-dark .jupyter-button {\n",
       "                    --jp-layout-color3: #383838;\n",
       "                }\n",
       "\n",
       "                .geemap-colab {\n",
       "                    background-color: var(--colab-primary-surface-color, white);\n",
       "                }\n",
       "\n",
       "                .geemap-colab .jupyter-button {\n",
       "                    --jp-layout-color3: var(--colab-primary-surface-color, white);\n",
       "                }\n",
       "            </style>\n",
       "            "
      ],
      "text/plain": [
       "<IPython.core.display.HTML object>"
      ]
     },
     "metadata": {},
     "output_type": "display_data"
    },
    {
     "name": "stdout",
     "output_type": "stream",
     "text": [
      "正在导出第6个文件...\n",
      "✅ 成功导出: data/water_CNN_with_AlphaEarth6_1.csv\n"
     ]
    }
   ],
   "source": [
    "# 导出第6个文件 (样本 5000-5999)\n",
    "print('正在导出第6个文件...')\n",
    "points_6 = ee.FeatureCollection(all_points_list.slice(5500, 6000)).select(['landcover']).randomColumn('random', 1)\n",
    "result_6 = img_array.sampleRegions(collection=points_6, scale=90)\n",
    "geemap.ee_to_csv(result_6, filename='data/water_CNN_with_AlphaEarth6.csv')\n",
    "print('✅ 成功导出: data/water_CNN_with_AlphaEarth6_1.csv')"
   ]
  },
  {
   "cell_type": "code",
   "execution_count": 12,
   "id": "export_7",
   "metadata": {},
   "outputs": [
    {
     "data": {
      "text/html": [
       "\n",
       "            <style>\n",
       "                .geemap-dark {\n",
       "                    --jp-widgets-color: white;\n",
       "                    --jp-widgets-label-color: white;\n",
       "                    --jp-ui-font-color1: white;\n",
       "                    --jp-layout-color2: #454545;\n",
       "                    background-color: #383838;\n",
       "                }\n",
       "\n",
       "                .geemap-dark .jupyter-button {\n",
       "                    --jp-layout-color3: #383838;\n",
       "                }\n",
       "\n",
       "                .geemap-colab {\n",
       "                    background-color: var(--colab-primary-surface-color, white);\n",
       "                }\n",
       "\n",
       "                .geemap-colab .jupyter-button {\n",
       "                    --jp-layout-color3: var(--colab-primary-surface-color, white);\n",
       "                }\n",
       "            </style>\n",
       "            "
      ],
      "text/plain": [
       "<IPython.core.display.HTML object>"
      ]
     },
     "metadata": {},
     "output_type": "display_data"
    },
    {
     "name": "stdout",
     "output_type": "stream",
     "text": [
      "正在导出第7个文件...\n",
      "✅ 成功导出: data/water_CNN_with_AlphaEarth7_1.csv\n"
     ]
    }
   ],
   "source": [
    "# 导出第7个文件 (样本 6000-6999)\n",
    "print('正在导出第7个文件...')\n",
    "points_7 = ee.FeatureCollection(all_points_list.slice(6500, 7000)).select(['landcover']).randomColumn('random', 1)\n",
    "result_7 = img_array.sampleRegions(collection=points_7, scale=90)\n",
    "geemap.ee_to_csv(result_7, filename='data/water_CNN_with_AlphaEarth7.csv')\n",
    "print('✅ 成功导出: data/water_CNN_with_AlphaEarth7_1.csv')"
   ]
  },
  {
   "cell_type": "code",
   "execution_count": 13,
   "id": "export_8",
   "metadata": {},
   "outputs": [
    {
     "data": {
      "text/html": [
       "\n",
       "            <style>\n",
       "                .geemap-dark {\n",
       "                    --jp-widgets-color: white;\n",
       "                    --jp-widgets-label-color: white;\n",
       "                    --jp-ui-font-color1: white;\n",
       "                    --jp-layout-color2: #454545;\n",
       "                    background-color: #383838;\n",
       "                }\n",
       "\n",
       "                .geemap-dark .jupyter-button {\n",
       "                    --jp-layout-color3: #383838;\n",
       "                }\n",
       "\n",
       "                .geemap-colab {\n",
       "                    background-color: var(--colab-primary-surface-color, white);\n",
       "                }\n",
       "\n",
       "                .geemap-colab .jupyter-button {\n",
       "                    --jp-layout-color3: var(--colab-primary-surface-color, white);\n",
       "                }\n",
       "            </style>\n",
       "            "
      ],
      "text/plain": [
       "<IPython.core.display.HTML object>"
      ]
     },
     "metadata": {},
     "output_type": "display_data"
    },
    {
     "name": "stdout",
     "output_type": "stream",
     "text": [
      "正在导出第8个文件...\n",
      "✅ 成功导出: data/water_CNN_with_AlphaEarth8.csv\n"
     ]
    }
   ],
   "source": [
    "# 导出第8个文件 (样本 7000-7999)\n",
    "print('正在导出第8个文件...')\n",
    "points_8 = ee.FeatureCollection(all_points_list.slice(7000, 8000)).select(['landcover']).randomColumn('random', 1)\n",
    "result_8 = img_array.sampleRegions(collection=points_8, scale=90)\n",
    "geemap.ee_to_csv(result_8, filename='data/water_CNN_with_AlphaEarth8.csv')\n",
    "print('✅ 成功导出: data/water_CNN_with_AlphaEarth8.csv')"
   ]
  },
  {
   "cell_type": "code",
   "execution_count": 8,
   "id": "export_9",
   "metadata": {},
   "outputs": [
    {
     "data": {
      "text/html": [
       "\n",
       "            <style>\n",
       "                .geemap-dark {\n",
       "                    --jp-widgets-color: white;\n",
       "                    --jp-widgets-label-color: white;\n",
       "                    --jp-ui-font-color1: white;\n",
       "                    --jp-layout-color2: #454545;\n",
       "                    background-color: #383838;\n",
       "                }\n",
       "\n",
       "                .geemap-dark .jupyter-button {\n",
       "                    --jp-layout-color3: #383838;\n",
       "                }\n",
       "\n",
       "                .geemap-colab {\n",
       "                    background-color: var(--colab-primary-surface-color, white);\n",
       "                }\n",
       "\n",
       "                .geemap-colab .jupyter-button {\n",
       "                    --jp-layout-color3: var(--colab-primary-surface-color, white);\n",
       "                }\n",
       "            </style>\n",
       "            "
      ],
      "text/plain": [
       "<IPython.core.display.HTML object>"
      ]
     },
     "metadata": {},
     "output_type": "display_data"
    },
    {
     "name": "stdout",
     "output_type": "stream",
     "text": [
      "正在导出第9个文件...\n",
      "✅ 成功导出: data/water_CNN_with_AlphaEarth9.csv\n"
     ]
    }
   ],
   "source": [
    "# 导出第9个文件 (样本 8000-8999)\n",
    "print('正在导出第9个文件...')\n",
    "points_9 = ee.FeatureCollection(all_points_list.slice(8800, 9000)).select(['landcover']).randomColumn('random', 1)\n",
    "result_9 = img_array.sampleRegions(collection=points_9, scale=90)\n",
    "geemap.ee_to_csv(result_9, filename='data/water_CNN_with_AlphaEarth9_4.csv')\n",
    "print('✅ 成功导出: data/water_CNN_with_AlphaEarth9.csv')"
   ]
  },
  {
   "cell_type": "code",
   "execution_count": 13,
   "id": "export_10",
   "metadata": {},
   "outputs": [
    {
     "data": {
      "text/html": [
       "\n",
       "            <style>\n",
       "                .geemap-dark {\n",
       "                    --jp-widgets-color: white;\n",
       "                    --jp-widgets-label-color: white;\n",
       "                    --jp-ui-font-color1: white;\n",
       "                    --jp-layout-color2: #454545;\n",
       "                    background-color: #383838;\n",
       "                }\n",
       "\n",
       "                .geemap-dark .jupyter-button {\n",
       "                    --jp-layout-color3: #383838;\n",
       "                }\n",
       "\n",
       "                .geemap-colab {\n",
       "                    background-color: var(--colab-primary-surface-color, white);\n",
       "                }\n",
       "\n",
       "                .geemap-colab .jupyter-button {\n",
       "                    --jp-layout-color3: var(--colab-primary-surface-color, white);\n",
       "                }\n",
       "            </style>\n",
       "            "
      ],
      "text/plain": [
       "<IPython.core.display.HTML object>"
      ]
     },
     "metadata": {},
     "output_type": "display_data"
    },
    {
     "name": "stdout",
     "output_type": "stream",
     "text": [
      "正在导出第10个文件...\n",
      "✅ 成功导出: data/water_CNN_with_AlphaEarth10.csv\n"
     ]
    }
   ],
   "source": [
    "# 导出第10个文件 (样本 9000-9999)\n",
    "print('正在导出第10个文件...')\n",
    "points_10 = ee.FeatureCollection(all_points_list.slice(9600, 10000)).select(['landcover']).randomColumn('random', 1)\n",
    "result_10 = img_array.sampleRegions(collection=points_10, scale=90)\n",
    "geemap.ee_to_csv(result_10, filename='data/water_CNN_with_AlphaEarth10_2.csv')\n",
    "print('✅ 成功导出: data/water_CNN_with_AlphaEarth10.csv')"
   ]
  },
  {
   "cell_type": "code",
   "execution_count": 19,
   "id": "export_11",
   "metadata": {},
   "outputs": [
    {
     "data": {
      "text/html": [
       "\n",
       "            <style>\n",
       "                .geemap-dark {\n",
       "                    --jp-widgets-color: white;\n",
       "                    --jp-widgets-label-color: white;\n",
       "                    --jp-ui-font-color1: white;\n",
       "                    --jp-layout-color2: #454545;\n",
       "                    background-color: #383838;\n",
       "                }\n",
       "\n",
       "                .geemap-dark .jupyter-button {\n",
       "                    --jp-layout-color3: #383838;\n",
       "                }\n",
       "\n",
       "                .geemap-colab {\n",
       "                    background-color: var(--colab-primary-surface-color, white);\n",
       "                }\n",
       "\n",
       "                .geemap-colab .jupyter-button {\n",
       "                    --jp-layout-color3: var(--colab-primary-surface-color, white);\n",
       "                }\n",
       "            </style>\n",
       "            "
      ],
      "text/plain": [
       "<IPython.core.display.HTML object>"
      ]
     },
     "metadata": {},
     "output_type": "display_data"
    },
    {
     "name": "stdout",
     "output_type": "stream",
     "text": [
      "正在导出第11个文件...\n",
      "✅ 成功导出: data/water_CNN_with_AlphaEarth11.csv\n"
     ]
    }
   ],
   "source": [
    "# 导出第11个文件 (样本 10000-10999)\n",
    "print('正在导出第11个文件...')\n",
    "points_11 = ee.FeatureCollection(all_points_list.slice(10600, 11000)).select(['landcover']).randomColumn('random', 1)\n",
    "result_11 = img_array.sampleRegions(collection=points_11, scale=90)\n",
    "geemap.ee_to_csv(result_11, filename='data/water_CNN_with_AlphaEarth11_2.csv')\n",
    "print('✅ 成功导出: data/water_CNN_with_AlphaEarth11.csv')"
   ]
  },
  {
   "cell_type": "code",
   "execution_count": 20,
   "id": "export_12",
   "metadata": {},
   "outputs": [
    {
     "data": {
      "text/html": [
       "\n",
       "            <style>\n",
       "                .geemap-dark {\n",
       "                    --jp-widgets-color: white;\n",
       "                    --jp-widgets-label-color: white;\n",
       "                    --jp-ui-font-color1: white;\n",
       "                    --jp-layout-color2: #454545;\n",
       "                    background-color: #383838;\n",
       "                }\n",
       "\n",
       "                .geemap-dark .jupyter-button {\n",
       "                    --jp-layout-color3: #383838;\n",
       "                }\n",
       "\n",
       "                .geemap-colab {\n",
       "                    background-color: var(--colab-primary-surface-color, white);\n",
       "                }\n",
       "\n",
       "                .geemap-colab .jupyter-button {\n",
       "                    --jp-layout-color3: var(--colab-primary-surface-color, white);\n",
       "                }\n",
       "            </style>\n",
       "            "
      ],
      "text/plain": [
       "<IPython.core.display.HTML object>"
      ]
     },
     "metadata": {},
     "output_type": "display_data"
    },
    {
     "name": "stdout",
     "output_type": "stream",
     "text": [
      "正在导出第12个文件...\n",
      "✅ 成功导出: data/water_CNN_with_AlphaEarth12.csv\n"
     ]
    }
   ],
   "source": [
    "# 导出第12个文件 (样本 11000-11999)\n",
    "print('正在导出第12个文件...')\n",
    "points_12 = ee.FeatureCollection(all_points_list.slice(11000, 12000)).select(['landcover']).randomColumn('random', 1)\n",
    "result_12 = img_array.sampleRegions(collection=points_12, scale=90)\n",
    "geemap.ee_to_csv(result_12, filename='data/water_CNN_with_AlphaEarth12.csv')\n",
    "print('✅ 成功导出: data/water_CNN_with_AlphaEarth12.csv')"
   ]
  },
  {
   "cell_type": "code",
   "execution_count": 22,
   "id": "export_13",
   "metadata": {},
   "outputs": [
    {
     "data": {
      "text/html": [
       "\n",
       "            <style>\n",
       "                .geemap-dark {\n",
       "                    --jp-widgets-color: white;\n",
       "                    --jp-widgets-label-color: white;\n",
       "                    --jp-ui-font-color1: white;\n",
       "                    --jp-layout-color2: #454545;\n",
       "                    background-color: #383838;\n",
       "                }\n",
       "\n",
       "                .geemap-dark .jupyter-button {\n",
       "                    --jp-layout-color3: #383838;\n",
       "                }\n",
       "\n",
       "                .geemap-colab {\n",
       "                    background-color: var(--colab-primary-surface-color, white);\n",
       "                }\n",
       "\n",
       "                .geemap-colab .jupyter-button {\n",
       "                    --jp-layout-color3: var(--colab-primary-surface-color, white);\n",
       "                }\n",
       "            </style>\n",
       "            "
      ],
      "text/plain": [
       "<IPython.core.display.HTML object>"
      ]
     },
     "metadata": {},
     "output_type": "display_data"
    },
    {
     "name": "stdout",
     "output_type": "stream",
     "text": [
      "正在导出第13个文件...\n",
      "✅ 成功导出: data/water_CNN_with_AlphaEarth13.csv\n",
      "🎉 所有文件导出完成！总共12700个样本\n"
     ]
    }
   ],
   "source": [
    "# 导出第13个文件 (样本 12000-12699，剩余700个样本)\n",
    "print('正在导出第13个文件...')\n",
    "points_13 = ee.FeatureCollection(all_points_list.slice(12300, 12700)).select(['landcover']).randomColumn('random', 1)\n",
    "result_13 = img_array.sampleRegions(collection=points_13, scale=90)\n",
    "geemap.ee_to_csv(result_13, filename='data/water_CNN_with_AlphaEarth13.csv')\n",
    "print('✅ 成功导出: data/water_CNN_with_AlphaEarth13.csv')\n",
    "print('🎉 所有文件导出完成！总共12700个样本')"
   ]
  }
 ],
 "metadata": {
  "kernelspec": {
   "display_name": "gee",
   "language": "python",
   "name": "python3"
  },
  "language_info": {
   "codemirror_mode": {
    "name": "ipython",
    "version": 3
   },
   "file_extension": ".py",
   "mimetype": "text/x-python",
   "name": "python",
   "nbconvert_exporter": "python",
   "pygments_lexer": "ipython3",
   "version": "3.9.16"
  }
 },
 "nbformat": 4,
 "nbformat_minor": 5
}
